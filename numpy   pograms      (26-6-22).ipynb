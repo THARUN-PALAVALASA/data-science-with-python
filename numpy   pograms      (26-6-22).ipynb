{
 "cells": [
  {
   "cell_type": "code",
   "execution_count": 3,
   "id": "3d24b9f0",
   "metadata": {},
   "outputs": [
    {
     "name": "stdout",
     "output_type": "stream",
     "text": [
      "[1 2 3]\n"
     ]
    },
    {
     "data": {
      "text/plain": [
       "numpy.ndarray"
      ]
     },
     "execution_count": 3,
     "metadata": {},
     "output_type": "execute_result"
    }
   ],
   "source": [
    "#numpy\n",
    "import numpy as np\n",
    "a=np.array([1,2,3])\n",
    "a\n",
    "print(a)\n",
    "type(a)\n"
   ]
  },
  {
   "cell_type": "code",
   "execution_count": 5,
   "id": "61caed09",
   "metadata": {},
   "outputs": [
    {
     "name": "stdout",
     "output_type": "stream",
     "text": [
      "[[1 2 3]\n",
      " [4 5 6]]\n"
     ]
    }
   ],
   "source": [
    "import numpy as np\n",
    "a=np.array([[1,2,3],[4,5,6]])\n",
    "print(a)\n",
    "\n"
   ]
  },
  {
   "cell_type": "code",
   "execution_count": 10,
   "id": "1be1d94d",
   "metadata": {},
   "outputs": [
    {
     "name": "stdout",
     "output_type": "stream",
     "text": [
      "[[1 2 3]\n",
      " [4 5 7]]\n"
     ]
    }
   ],
   "source": [
    "a=np.array([[1,2,3],[4,5,7]])\n",
    "print(a)\n"
   ]
  },
  {
   "cell_type": "code",
   "execution_count": 24,
   "id": "20d0ec6c",
   "metadata": {},
   "outputs": [
    {
     "name": "stdout",
     "output_type": "stream",
     "text": [
      "[[[[1 2]]]]\n"
     ]
    },
    {
     "data": {
      "text/plain": [
       "4"
      ]
     },
     "execution_count": 24,
     "metadata": {},
     "output_type": "execute_result"
    }
   ],
   "source": [
    "import numpy as np #specification\n",
    "a=np.array([1,2],ndmin=4)\n",
    "print(a)\n",
    "a.ndim\n"
   ]
  },
  {
   "cell_type": "code",
   "execution_count": 33,
   "id": "9c857be0",
   "metadata": {},
   "outputs": [
    {
     "name": "stdout",
     "output_type": "stream",
     "text": [
      "6\n",
      "5\n"
     ]
    },
    {
     "data": {
      "text/plain": [
       "6"
      ]
     },
     "execution_count": 33,
     "metadata": {},
     "output_type": "execute_result"
    }
   ],
   "source": [
    "a=np.array([[1,3,2],[4,5,6]]) #accesing\n",
    "print(a[1,2])\n",
    "print(a[1,1])\n",
    "a[1,2]"
   ]
  },
  {
   "cell_type": "code",
   "execution_count": 5,
   "id": "3bd3042c",
   "metadata": {},
   "outputs": [
    {
     "name": "stdout",
     "output_type": "stream",
     "text": [
      "[[[ 1  2  3]\n",
      "  [ 4  5  6]]\n",
      "\n",
      " [[ 8  9 10]\n",
      "  [11 12 13]]]\n",
      "3\n",
      "6\n"
     ]
    },
    {
     "data": {
      "text/plain": [
       "array([11, 12, 13])"
      ]
     },
     "execution_count": 5,
     "metadata": {},
     "output_type": "execute_result"
    }
   ],
   "source": [
    "import numpy as np\n",
    "b=np.array([[[1,2,3],[4,5,6]],[[8,9,10],[11,12,13]]])\n",
    "print(b)\n",
    "print(b.ndim)\n",
    "print(b[0,1,2])\n",
    "b[1,-1]\n"
   ]
  },
  {
   "cell_type": "code",
   "execution_count": 49,
   "id": "122e80d2",
   "metadata": {},
   "outputs": [
    {
     "name": "stdout",
     "output_type": "stream",
     "text": [
      "[0 1 2 3 4 5 6 7 8 9]\n",
      "[0 2 4 6 8]\n"
     ]
    }
   ],
   "source": [
    "#arange\n",
    "a=np.arange(10)\n",
    "print(a)\n",
    "a=np.arange(0,10,2)\n",
    "print(a)"
   ]
  },
  {
   "cell_type": "code",
   "execution_count": 69,
   "id": "5c598bbf",
   "metadata": {},
   "outputs": [
    {
     "data": {
      "text/plain": [
       "array([1, 1])"
      ]
     },
     "execution_count": 69,
     "metadata": {},
     "output_type": "execute_result"
    }
   ],
   "source": [
    "#ones\n",
    "\n",
    "c=np.ones(2, dtype=int)\n",
    "c"
   ]
  },
  {
   "cell_type": "code",
   "execution_count": null,
   "id": "106c66a5",
   "metadata": {},
   "outputs": [],
   "source": []
  },
  {
   "cell_type": "code",
   "execution_count": 63,
   "id": "434d9c6c",
   "metadata": {},
   "outputs": [
    {
     "data": {
      "text/plain": [
       "array([0., 0., 0., 0.])"
      ]
     },
     "execution_count": 63,
     "metadata": {},
     "output_type": "execute_result"
    }
   ],
   "source": [
    "d=np.zeros(4)\n",
    "d"
   ]
  },
  {
   "cell_type": "code",
   "execution_count": 71,
   "id": "eb8287b3",
   "metadata": {},
   "outputs": [
    {
     "data": {
      "text/plain": [
       "array([8.89324794e-312, 8.89324794e-312, 8.89324794e-312, 1.26974871e-321])"
      ]
     },
     "execution_count": 71,
     "metadata": {},
     "output_type": "execute_result"
    }
   ],
   "source": [
    "a=np.empty(4)\n",
    "a"
   ]
  },
  {
   "cell_type": "code",
   "execution_count": 74,
   "id": "a5ea4101",
   "metadata": {},
   "outputs": [
    {
     "name": "stdout",
     "output_type": "stream",
     "text": [
      "1\n",
      "4\n"
     ]
    },
    {
     "data": {
      "text/plain": [
       "10"
      ]
     },
     "execution_count": 74,
     "metadata": {},
     "output_type": "execute_result"
    }
   ],
   "source": [
    "a=np.array([1,2,3,4])\n",
    "print(a.min())\n",
    "print(a.max())\n",
    "a.sum()\n"
   ]
  },
  {
   "cell_type": "code",
   "execution_count": 78,
   "id": "2b9b8ab9",
   "metadata": {},
   "outputs": [
    {
     "name": "stdout",
     "output_type": "stream",
     "text": [
      "int32\n"
     ]
    },
    {
     "data": {
      "text/plain": [
       "'int32'"
      ]
     },
     "execution_count": 78,
     "metadata": {},
     "output_type": "execute_result"
    }
   ],
   "source": [
    "print(a.dtype)\n",
    "a.dtype.name\n",
    "\n"
   ]
  },
  {
   "cell_type": "code",
   "execution_count": 83,
   "id": "bc65df43",
   "metadata": {},
   "outputs": [
    {
     "name": "stdout",
     "output_type": "stream",
     "text": [
      "[0 2 3 4 5]\n",
      "[1 2 3 4 5]\n",
      "[0 2 3 4 5]\n",
      "None\n",
      "[0 2 3 4 5]\n"
     ]
    }
   ],
   "source": [
    "a=np.array([1,2,3,4,5])\n",
    "x=a.copy()\n",
    "y=a.view()\n",
    "a[0]=0\n",
    "print(a)\n",
    "print(x)\n",
    "print(y)\n",
    "print(x.base)#base\n",
    "print(y.base)"
   ]
  },
  {
   "cell_type": "code",
   "execution_count": 14,
   "id": "06eff990",
   "metadata": {},
   "outputs": [
    {
     "name": "stdout",
     "output_type": "stream",
     "text": [
      "(2, 3)\n",
      "(2, 3)\n",
      "(1, 1, 1, 1, 5)\n",
      "[[[[[1 2 3 4 5]]]]]\n"
     ]
    }
   ],
   "source": [
    "#shape \n",
    "\n",
    "a=np.array([[1,2,3],[4,5,6]])\n",
    "print(a.shape)\n",
    "b=np.array([[1,3,2],[4,5,7]])\n",
    "print(b.shape)\n",
    "c=np.array([1,2,3,4,5],ndmin=5)\n",
    "print(c.shape)\n",
    "print(c)\n"
   ]
  },
  {
   "cell_type": "code",
   "execution_count": 16,
   "id": "46ad7695",
   "metadata": {},
   "outputs": [
    {
     "name": "stdout",
     "output_type": "stream",
     "text": [
      "[[0 1 2 3 4]\n",
      " [5 6 7 8 9]]\n"
     ]
    }
   ],
   "source": [
    "#reshape\n",
    "a=np.arange(10).reshape(2,5)\n",
    "print(a)"
   ]
  },
  {
   "cell_type": "code",
   "execution_count": 21,
   "id": "198d503a",
   "metadata": {},
   "outputs": [
    {
     "data": {
      "text/plain": [
       "array([[[ 1,  2],\n",
       "        [ 3,  4],\n",
       "        [ 5,  6]],\n",
       "\n",
       "       [[ 7,  8],\n",
       "        [ 9, 10],\n",
       "        [11, 12]]])"
      ]
     },
     "execution_count": 21,
     "metadata": {},
     "output_type": "execute_result"
    }
   ],
   "source": [
    "#1d to3d reshape\n",
    "a=np.array([1,2,3,4,5,6,7,8,9,10,11,12])\n",
    "a.reshape(2,3,2)\n"
   ]
  },
  {
   "cell_type": "code",
   "execution_count": 7,
   "id": "6d9a529f",
   "metadata": {},
   "outputs": [
    {
     "name": "stdout",
     "output_type": "stream",
     "text": [
      "[1 2 3 4 5 6]\n"
     ]
    },
    {
     "data": {
      "text/plain": [
       "array([ 1,  2,  3,  4,  5,  6,  8,  9, 10, 11, 12, 13])"
      ]
     },
     "execution_count": 7,
     "metadata": {},
     "output_type": "execute_result"
    }
   ],
   "source": [
    "#multi to 1d\n",
    "a=np.array([[1,2,3],[4,5,6]])\n",
    "print(a.reshape(-1))\n",
    "b=np.array([[[1,2,3],[4,5,6]],[[8,9,10],[11,12,13]]])\n",
    "b.reshape(-1)\n",
    "\n",
    "\n",
    "\n"
   ]
  },
  {
   "cell_type": "code",
   "execution_count": 29,
   "id": "7a2c5e0b",
   "metadata": {},
   "outputs": [
    {
     "name": "stdout",
     "output_type": "stream",
     "text": [
      "[2 3]\n",
      "[1 2 3 4 5]\n",
      "[3 4]\n",
      "[2 4]\n",
      "[1 3 5]\n"
     ]
    }
   ],
   "source": [
    "#slicing\n",
    "a=np.array([1,2,3,4,5])\n",
    "print(a[1:3])\n",
    "print(a[:5])\n",
    "print(a[-3:-1])\n",
    "print(a[1:4:2])\n",
    "print(a[::2])\n"
   ]
  },
  {
   "cell_type": "code",
   "execution_count": 35,
   "id": "500592b6",
   "metadata": {},
   "outputs": [
    {
     "name": "stdout",
     "output_type": "stream",
     "text": [
      "[2 3 4]\n",
      "[7 3]\n",
      "[[5 8]\n",
      " [3 7]\n",
      " [7 3]]\n"
     ]
    }
   ],
   "source": [
    "#slicing in 2d\n",
    "a=np.array([[1,2,3,4],[5,6,7,8]])\n",
    "print(a[0,1:4])\n",
    "a=np.array([[2,5,8,9],[6,3,7,4],[6,7,3,3]])\n",
    "print(a[2,1:3])\n",
    "print(a[0:3,1:3])\n"
   ]
  },
  {
   "cell_type": "code",
   "execution_count": 52,
   "id": "e81dfa6e",
   "metadata": {},
   "outputs": [
    {
     "name": "stdout",
     "output_type": "stream",
     "text": [
      "[ True  True  True False]\n",
      "bool\n"
     ]
    }
   ],
   "source": [
    "#casting\n",
    "a=np.array([1,2,3,0],dtype=bool)\n",
    "print(a)\n",
    "print(a.dtype)\n"
   ]
  },
  {
   "cell_type": "raw",
   "id": "e621aff0",
   "metadata": {},
   "source": []
  },
  {
   "cell_type": "code",
   "execution_count": 54,
   "id": "fa361d95",
   "metadata": {},
   "outputs": [
    {
     "name": "stdout",
     "output_type": "stream",
     "text": [
      "[1.+0.j 2.+0.j 3.+0.j 4.+0.j]\n",
      "complex128\n"
     ]
    }
   ],
   "source": [
    "a=np.array([1,2,3,4])#casting\n",
    "a=a.astype('complex128')\n",
    "print(a)\n",
    "print(a.dtype)"
   ]
  },
  {
   "cell_type": "code",
   "execution_count": 55,
   "id": "598196f8",
   "metadata": {},
   "outputs": [
    {
     "name": "stdout",
     "output_type": "stream",
     "text": [
      "[1 2 5 6 9]\n"
     ]
    }
   ],
   "source": [
    "#sorting in 1d\n",
    "a=np.array([2,5,1,6,9])\n",
    "print(np.sort(a))"
   ]
  },
  {
   "cell_type": "code",
   "execution_count": 64,
   "id": "eda57b56",
   "metadata": {},
   "outputs": [
    {
     "name": "stdout",
     "output_type": "stream",
     "text": [
      "[[1 3 5 6]\n",
      " [1 3 5 7]]\n"
     ]
    },
    {
     "data": {
      "text/plain": [
       "(array([0, 1], dtype=int64), array([1, 2], dtype=int64))"
      ]
     },
     "execution_count": 64,
     "metadata": {},
     "output_type": "execute_result"
    }
   ],
   "source": [
    "#sorting in 2d\n",
    "a=np.array([[3,5,1,6],[7,3,5,1]])\n",
    "print(np.sort(a))\n",
    "np.where(a==5)#where function is used to tell the index position in array\n",
    "\n"
   ]
  },
  {
   "cell_type": "code",
   "execution_count": 9,
   "id": "a271298b",
   "metadata": {},
   "outputs": [
    {
     "name": "stdout",
     "output_type": "stream",
     "text": [
      "[[3 2 1]\n",
      " [6 5 4]\n",
      " [9 8 7]]\n",
      "[[9 8 7]\n",
      " [6 5 4]\n",
      " [3 2 1]]\n"
     ]
    }
   ],
   "source": [
    "#swapping\n",
    "a=np.array([[1,2,3],[4,5,6],[7,8,9]])\n",
    "print(a[:,::-1])#reversing elements in array\n",
    "print(a[::-1,::-1])#swapping\n"
   ]
  },
  {
   "cell_type": "markdown",
   "id": "c69091ee",
   "metadata": {},
   "source": [
    "# a=np.array([1,6,2,8,3,9])\n",
    "k=np.searchsorted(a,9,side='right')#doubt\n",
    "x=np.searchsorted(a,6,side='right')\n",
    "print(k)\n",
    "print(x)"
   ]
  },
  {
   "cell_type": "code",
   "execution_count": 88,
   "id": "429d69cb",
   "metadata": {},
   "outputs": [
    {
     "name": "stdout",
     "output_type": "stream",
     "text": [
      "[[ 1  4  9]\n",
      " [16 25 36]]\n",
      "[[ 1  4  9]\n",
      " [16 25 36]]\n"
     ]
    }
   ],
   "source": [
    "#multiply\n",
    "a=np.array([[1,2,3],[4,5,6]])\n",
    "b=np.array([[1,2,3],[4,5,6]])\n",
    "print(a*b)\n",
    "print(np.multiply(a,b))"
   ]
  },
  {
   "cell_type": "code",
   "execution_count": null,
   "id": "46ae4c49",
   "metadata": {},
   "outputs": [],
   "source": []
  }
 ],
 "metadata": {
  "kernelspec": {
   "display_name": "Python 3 (ipykernel)",
   "language": "python",
   "name": "python3"
  },
  "language_info": {
   "codemirror_mode": {
    "name": "ipython",
    "version": 3
   },
   "file_extension": ".py",
   "mimetype": "text/x-python",
   "name": "python",
   "nbconvert_exporter": "python",
   "pygments_lexer": "ipython3",
   "version": "3.9.7"
  }
 },
 "nbformat": 4,
 "nbformat_minor": 5
}
