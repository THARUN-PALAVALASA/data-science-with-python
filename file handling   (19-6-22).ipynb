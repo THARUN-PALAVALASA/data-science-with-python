{
 "cells": [
  {
   "cell_type": "code",
   "execution_count": 5,
   "id": "ca7d7600",
   "metadata": {},
   "outputs": [
    {
     "name": "stdout",
     "output_type": "stream",
     "text": [
      "file created\n",
      "end of the file\n"
     ]
    }
   ],
   "source": [
    "file_name=open(\"f1.txt\",\"w\")\n",
    "print(\"file created\")\n",
    "file_name.close()\n",
    "print(\"end of the file\")\n"
   ]
  },
  {
   "cell_type": "code",
   "execution_count": null,
   "id": "e7909eca",
   "metadata": {},
   "outputs": [],
   "source": []
  },
  {
   "cell_type": "code",
   "execution_count": 8,
   "id": "34925bd4",
   "metadata": {},
   "outputs": [
    {
     "name": "stdout",
     "output_type": "stream",
     "text": [
      "hello world\n",
      "welcome to cse\n",
      "my name is tharun\n",
      "content read from the file\n",
      "end of the file\n"
     ]
    }
   ],
   "source": [
    "file_name=open(\"f1.txt\",\"r\")\n",
    "txt=file_name.read()\n",
    "print(txt)\n",
    "print(\"content read from the file\")\n",
    "file_name.close()\n",
    "print(\"end of the file\")\n",
    "\n"
   ]
  },
  {
   "cell_type": "code",
   "execution_count": 15,
   "id": "dd0caa0b",
   "metadata": {},
   "outputs": [
    {
     "name": "stdout",
     "output_type": "stream",
     "text": [
      "content written in the file\n",
      "emd of the file\n",
      "hello-world\n"
     ]
    }
   ],
   "source": [
    "#writing files\n",
    "file_obj=open(\"f1.txt\",\"w\")\n",
    "file_obj.write(\"hello-world\")\n",
    "print(\"content written in the file\")\n",
    "file_obj.close()\n",
    "print(\"emd of the file\")\n",
    "file_obj=open(\"f1.txt\",\"r\")\n",
    "txt=file_obj.read()\n",
    "print(txt)"
   ]
  },
  {
   "cell_type": "code",
   "execution_count": 9,
   "id": "1d5e1553",
   "metadata": {},
   "outputs": [
    {
     "name": "stdout",
     "output_type": "stream",
     "text": [
      "text append in the file\n",
      "end of the file\n",
      "hello-worldmy name is tharunmy name is tharunmy name is tharunmy name is tharunmy name is tharunmy name is tharunmy name is tharunmy name is tharunmy name is tharun\n"
     ]
    }
   ],
   "source": [
    "file_obj=open(\"f1.txt\",\"a\")\n",
    "file_obj.write(\"my name is tharun\")\n",
    "print(\"text append in the file\")\n",
    "file_obj.close()\n",
    "print(\"end of the file\")\n",
    "file_obj=open(\"f1.txt\",\"r\")\n",
    "txt=file_obj.read()\n",
    "print(txt)\n"
   ]
  },
  {
   "cell_type": "code",
   "execution_count": 14,
   "id": "a05590a3",
   "metadata": {},
   "outputs": [
    {
     "name": "stdout",
     "output_type": "stream",
     "text": [
      "content succesfully inserted\n"
     ]
    }
   ],
   "source": [
    "#swapping two files\n",
    "f1=open(\"f1.txt\",\"w\")\n",
    "f1.write('tharun')\n",
    "f2=open(\"f2.txt\",\"w\")\n",
    "f2.write('hero')\n",
    "print(\"content succesfully inserted\")\n",
    "f1.close()\n",
    "f2.close()\n"
   ]
  },
  {
   "cell_type": "code",
   "execution_count": 15,
   "id": "8d473a84",
   "metadata": {},
   "outputs": [
    {
     "name": "stdout",
     "output_type": "stream",
     "text": [
      "\n",
      "\n",
      "tharun\n"
     ]
    }
   ],
   "source": [
    "f1=open(\"f1.txt\",\"r\")\n",
    "x=f1.read()\n",
    "f1.close()\n",
    "f1=open(\"f1.txt\",\"w\")\n",
    "f2=open(\"f1.txt\",\"r\")\n",
    "f1.close()\n",
    "f2.close()\n",
    "f2=open(\"f2.txt\",\"w\")\n",
    "f2.write(x)\n",
    "f2.close()\n",
    "f1=open(\"f1.txt\",\"r\")\n",
    "f2=open(\"f2.txt\",\"r\")\n",
    "print(f1.read())\n",
    "f2=open(\"f2.txt\",\"r\")\n",
    "print(f1.read())\n",
    "print(f2.read())\n",
    "f1.close()\n",
    "f2.close()\n"
   ]
  },
  {
   "cell_type": "code",
   "execution_count": null,
   "id": "168ece87",
   "metadata": {},
   "outputs": [],
   "source": []
  }
 ],
 "metadata": {
  "kernelspec": {
   "display_name": "Python 3 (ipykernel)",
   "language": "python",
   "name": "python3"
  },
  "language_info": {
   "codemirror_mode": {
    "name": "ipython",
    "version": 3
   },
   "file_extension": ".py",
   "mimetype": "text/x-python",
   "name": "python",
   "nbconvert_exporter": "python",
   "pygments_lexer": "ipython3",
   "version": "3.9.7"
  }
 },
 "nbformat": 4,
 "nbformat_minor": 5
}
