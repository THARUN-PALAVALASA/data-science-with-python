{
 "cells": [
  {
   "cell_type": "code",
   "execution_count": 5,
   "id": "c292dadd",
   "metadata": {},
   "outputs": [
    {
     "name": "stdout",
     "output_type": "stream",
     "text": [
      "1\n",
      "5\n"
     ]
    },
    {
     "data": {
      "text/plain": [
       "4"
      ]
     },
     "execution_count": 5,
     "metadata": {},
     "output_type": "execute_result"
    }
   ],
   "source": [
    "L=[1,2,3,4,5]\n",
    "print(L[0])\n",
    "print(L[-1])\n",
    "L[3]"
   ]
  },
  {
   "cell_type": "code",
   "execution_count": 6,
   "id": "b05091f5",
   "metadata": {},
   "outputs": [
    {
     "data": {
      "text/plain": [
       "[1, 2, 3, 7, 8, 9]"
      ]
     },
     "execution_count": 6,
     "metadata": {},
     "output_type": "execute_result"
    }
   ],
   "source": [
    "L1=[1,2,3]\n",
    "L2=[7,8,9]\n",
    "L1+L2"
   ]
  },
  {
   "cell_type": "code",
   "execution_count": 7,
   "id": "f069df81",
   "metadata": {},
   "outputs": [
    {
     "data": {
      "text/plain": [
       "[1, 2, 3, 4, 5, 6]"
      ]
     },
     "execution_count": 7,
     "metadata": {},
     "output_type": "execute_result"
    }
   ],
   "source": [
    "L1=[1,2,3]\n",
    "L2=[4,5,6]\n",
    "L1+L2"
   ]
  },
  {
   "cell_type": "code",
   "execution_count": 11,
   "id": "f4c1263d",
   "metadata": {},
   "outputs": [
    {
     "data": {
      "text/plain": [
       "[1, 2, 3, 5]"
      ]
     },
     "execution_count": 11,
     "metadata": {},
     "output_type": "execute_result"
    }
   ],
   "source": [
    "L=[1,2,3]\n",
    "L.append(5)\n",
    "L"
   ]
  },
  {
   "cell_type": "code",
   "execution_count": 13,
   "id": "6b897b5e",
   "metadata": {},
   "outputs": [
    {
     "data": {
      "text/plain": [
       "[1, 2, 3, [7, 8, 9]]"
      ]
     },
     "execution_count": 13,
     "metadata": {},
     "output_type": "execute_result"
    }
   ],
   "source": [
    "L=[1,2,3]\n",
    "L.append([7,8,9])\n",
    "L"
   ]
  },
  {
   "cell_type": "code",
   "execution_count": 15,
   "id": "cb2e87ec",
   "metadata": {},
   "outputs": [
    {
     "data": {
      "text/plain": [
       "[0, 1, 2, 3, 4, 5, 6]"
      ]
     },
     "execution_count": 15,
     "metadata": {},
     "output_type": "execute_result"
    }
   ],
   "source": [
    "L=[1,2,3,4,5,6]\n",
    "L.insert(0,0)\n",
    "L"
   ]
  },
  {
   "cell_type": "code",
   "execution_count": 17,
   "id": "c0739f6a",
   "metadata": {},
   "outputs": [
    {
     "data": {
      "text/plain": [
       "[1, 2, 3, 4, 5]"
      ]
     },
     "execution_count": 17,
     "metadata": {},
     "output_type": "execute_result"
    }
   ],
   "source": [
    "L=[1,2,4,5]\n",
    "L.insert(2,3)\n",
    "L"
   ]
  },
  {
   "cell_type": "code",
   "execution_count": 22,
   "id": "c92f69ae",
   "metadata": {},
   "outputs": [
    {
     "data": {
      "text/plain": [
       "[1, 2, 3, 4, 5, 10, 11, 12]"
      ]
     },
     "execution_count": 22,
     "metadata": {},
     "output_type": "execute_result"
    }
   ],
   "source": [
    "L1=[1,2,3,4,5]\n",
    "L1.extend([10,11,12])\n",
    "L1\n"
   ]
  },
  {
   "cell_type": "code",
   "execution_count": 24,
   "id": "b318b30a",
   "metadata": {},
   "outputs": [
    {
     "data": {
      "text/plain": [
       "[1, 2, 3, 4, 5]"
      ]
     },
     "execution_count": 24,
     "metadata": {},
     "output_type": "execute_result"
    }
   ],
   "source": [
    "L1=[8,1,2,3,4,5]\n",
    "del(L1[0])\n",
    "L1"
   ]
  },
  {
   "cell_type": "code",
   "execution_count": 32,
   "id": "71170ff0",
   "metadata": {},
   "outputs": [
    {
     "data": {
      "text/plain": [
       "1"
      ]
     },
     "execution_count": 32,
     "metadata": {},
     "output_type": "execute_result"
    }
   ],
   "source": [
    "L1=[1,2,3,4,5]\n",
    "L1.pop(0)"
   ]
  },
  {
   "cell_type": "code",
   "execution_count": 30,
   "id": "cd33504c",
   "metadata": {},
   "outputs": [
    {
     "data": {
      "text/plain": [
       "[0, 3, 1, 6, 7]"
      ]
     },
     "execution_count": 30,
     "metadata": {},
     "output_type": "execute_result"
    }
   ],
   "source": [
    "list=[0,2,3,1,6,7]\n",
    "list.remove(2)\n",
    "list"
   ]
  },
  {
   "cell_type": "code",
   "execution_count": 37,
   "id": "eb31a6e9",
   "metadata": {},
   "outputs": [
    {
     "data": {
      "text/plain": [
       "[2, 6, 1, 2]"
      ]
     },
     "execution_count": 37,
     "metadata": {},
     "output_type": "execute_result"
    }
   ],
   "source": [
    "L1=[2,6,1,2]\n",
    "L2=L1.copy()\n",
    "L2"
   ]
  },
  {
   "cell_type": "code",
   "execution_count": 38,
   "id": "416a3d90",
   "metadata": {},
   "outputs": [
    {
     "data": {
      "text/plain": [
       "4"
      ]
     },
     "execution_count": 38,
     "metadata": {},
     "output_type": "execute_result"
    }
   ],
   "source": [
    "L=[1,2,3,4,5,6]\n",
    "L[3]"
   ]
  },
  {
   "cell_type": "code",
   "execution_count": 39,
   "id": "e6e10ade",
   "metadata": {},
   "outputs": [
    {
     "data": {
      "text/plain": [
       "[6]"
      ]
     },
     "execution_count": 39,
     "metadata": {},
     "output_type": "execute_result"
    }
   ],
   "source": [
    "L[5:]"
   ]
  },
  {
   "cell_type": "code",
   "execution_count": 40,
   "id": "c44592e2",
   "metadata": {},
   "outputs": [
    {
     "data": {
      "text/plain": [
       "[2, 3, 4, 5]"
      ]
     },
     "execution_count": 40,
     "metadata": {},
     "output_type": "execute_result"
    }
   ],
   "source": [
    "L[1:5]"
   ]
  },
  {
   "cell_type": "code",
   "execution_count": 2,
   "id": "cd028485",
   "metadata": {},
   "outputs": [
    {
     "data": {
      "text/plain": [
       "[0, 1, 2, 5, 7]"
      ]
     },
     "execution_count": 2,
     "metadata": {},
     "output_type": "execute_result"
    }
   ],
   "source": [
    "L1=[1,0,7,5,2]\n",
    "L1.sort()\n",
    "L1"
   ]
  },
  {
   "cell_type": "code",
   "execution_count": 5,
   "id": "85ce8074",
   "metadata": {},
   "outputs": [
    {
     "data": {
      "text/plain": [
       "[6, 7, 8, 9]"
      ]
     },
     "execution_count": 5,
     "metadata": {},
     "output_type": "execute_result"
    }
   ],
   "source": [
    "L1=[9,8,7,6]\n",
    "L1.reverse()\n",
    "L1"
   ]
  },
  {
   "cell_type": "code",
   "execution_count": 6,
   "id": "c270d89d",
   "metadata": {},
   "outputs": [
    {
     "name": "stdout",
     "output_type": "stream",
     "text": [
      "3\n",
      "2\n"
     ]
    }
   ],
   "source": [
    "L1=[1,5,1,7,6,1,0,7,2,5,7]\n",
    "print(L1.count(1))\n",
    "print(L1.count(5))"
   ]
  },
  {
   "cell_type": "code",
   "execution_count": 7,
   "id": "013795d3",
   "metadata": {},
   "outputs": [
    {
     "name": "stdout",
     "output_type": "stream",
     "text": [
      "1\n"
     ]
    }
   ],
   "source": [
    "print(L1.index(5))"
   ]
  },
  {
   "cell_type": "code",
   "execution_count": null,
   "id": "eadfae51",
   "metadata": {},
   "outputs": [],
   "source": []
  }
 ],
 "metadata": {
  "kernelspec": {
   "display_name": "Python 3 (ipykernel)",
   "language": "python",
   "name": "python3"
  },
  "language_info": {
   "codemirror_mode": {
    "name": "ipython",
    "version": 3
   },
   "file_extension": ".py",
   "mimetype": "text/x-python",
   "name": "python",
   "nbconvert_exporter": "python",
   "pygments_lexer": "ipython3",
   "version": "3.9.7"
  }
 },
 "nbformat": 4,
 "nbformat_minor": 5
}
