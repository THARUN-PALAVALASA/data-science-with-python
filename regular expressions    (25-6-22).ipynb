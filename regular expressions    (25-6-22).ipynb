{
 "cells": [
  {
   "cell_type": "code",
   "execution_count": 1,
   "id": "839aeb50",
   "metadata": {},
   "outputs": [],
   "source": [
    "import re"
   ]
  },
  {
   "cell_type": "code",
   "execution_count": 3,
   "id": "caa53954",
   "metadata": {},
   "outputs": [
    {
     "name": "stdout",
     "output_type": "stream",
     "text": [
      "yes we have a match\n"
     ]
    }
   ],
   "source": [
    "import re\n",
    "txt=\"the rain in spain\"\n",
    "x=re.search(\"^the.*spain$\",txt)\n",
    "if x:\n",
    "    print(\"yes we have a match\")\n",
    "else:\n",
    "        print(\"no match\")"
   ]
  },
  {
   "cell_type": "code",
   "execution_count": 4,
   "id": "9b1b36b3",
   "metadata": {},
   "outputs": [
    {
     "name": "stdout",
     "output_type": "stream",
     "text": [
      "['h', 'e', 'a', 'i', 'i', 'a', 'i']\n"
     ]
    }
   ],
   "source": [
    "import re \n",
    "txt=\"the rain in spain\"\n",
    "x=re.findall(\"[a-m]\",txt)\n",
    "print(x)"
   ]
  },
  {
   "cell_type": "code",
   "execution_count": 5,
   "id": "a7676d65",
   "metadata": {},
   "outputs": [
    {
     "name": "stdout",
     "output_type": "stream",
     "text": [
      "['3', '4']\n"
     ]
    }
   ],
   "source": [
    "import re\n",
    "txt=\"that will be 34 dollars\"\n",
    "x=re.findall(\"\\d\",txt)\n",
    "print(x)"
   ]
  },
  {
   "cell_type": "code",
   "execution_count": 7,
   "id": "21ea99b0",
   "metadata": {},
   "outputs": [
    {
     "name": "stdout",
     "output_type": "stream",
     "text": [
      "['hello']\n"
     ]
    }
   ],
   "source": [
    "import re\n",
    "txt=\"hello world\"\n",
    "x=re.findall(\"he..o\",txt)\n",
    "print(x)"
   ]
  },
  {
   "cell_type": "code",
   "execution_count": 14,
   "id": "262d1103",
   "metadata": {},
   "outputs": [
    {
     "name": "stdout",
     "output_type": "stream",
     "text": [
      "yes,the string starts with 'hello'\n"
     ]
    }
   ],
   "source": [
    "import re\n",
    "txt=\"hello rajeswari\"\n",
    "x=re.findall(\"^hello\",txt)\n",
    "if x:\n",
    "    print(\"yes,the string starts with 'hello'\")\n",
    "else:\n",
    "    print(\"no match\")"
   ]
  },
  {
   "cell_type": "code",
   "execution_count": 15,
   "id": "e8af9868",
   "metadata": {},
   "outputs": [
    {
     "name": "stdout",
     "output_type": "stream",
     "text": [
      "['hello wo']\n"
     ]
    }
   ],
   "source": [
    "import re\n",
    "txt=\"hello world\"\n",
    "x=re.findall(\"he.*o\",txt)\n",
    "print(x)"
   ]
  },
  {
   "cell_type": "code",
   "execution_count": 16,
   "id": "4eb0611f",
   "metadata": {},
   "outputs": [
    {
     "name": "stdout",
     "output_type": "stream",
     "text": [
      "['ai', 'ai']\n"
     ]
    }
   ],
   "source": [
    "import re\n",
    "txt=\"the rain in spain\"\n",
    "x=re.findall(\"ai\",txt)\n",
    "print(x)"
   ]
  },
  {
   "cell_type": "code",
   "execution_count": 17,
   "id": "01103c75",
   "metadata": {},
   "outputs": [
    {
     "name": "stdout",
     "output_type": "stream",
     "text": [
      "the first program is: 3\n"
     ]
    }
   ],
   "source": [
    "import re\n",
    "txt=\"the rain in spain\"\n",
    "x=re.search(\"\\s\",txt)\n",
    "print(\"the first program is:\",x.start())"
   ]
  },
  {
   "cell_type": "code",
   "execution_count": 19,
   "id": "514c0226",
   "metadata": {},
   "outputs": [
    {
     "name": "stdout",
     "output_type": "stream",
     "text": [
      "the6rain6in6spain\n"
     ]
    }
   ],
   "source": [
    "import re\n",
    "txt=\"the rain in spain\"\n",
    "x=re.sub(\"\\s\",\"6\",txt)\n",
    "print(x)"
   ]
  },
  {
   "cell_type": "code",
   "execution_count": 20,
   "id": "d8eb0871",
   "metadata": {},
   "outputs": [
    {
     "name": "stdout",
     "output_type": "stream",
     "text": [
      "<re.Match object; span=(5, 7), match='ai'>\n"
     ]
    }
   ],
   "source": [
    "import re\n",
    "txt=\"the rain in spain\"\n",
    "x=re.search(\"ai\",txt)\n",
    "print(x)"
   ]
  },
  {
   "cell_type": "code",
   "execution_count": 22,
   "id": "93178e06",
   "metadata": {},
   "outputs": [
    {
     "name": "stdout",
     "output_type": "stream",
     "text": [
      "(12, 17)\n"
     ]
    }
   ],
   "source": [
    "import re\n",
    "txt=\"the rain in spain\"\n",
    "x=re.search(r\"\\bs\\w+\",txt)\n",
    "print(x.span())"
   ]
  },
  {
   "cell_type": "code",
   "execution_count": 23,
   "id": "963f1f01",
   "metadata": {},
   "outputs": [
    {
     "name": "stdout",
     "output_type": "stream",
     "text": [
      "spain\n"
     ]
    }
   ],
   "source": [
    "import re\n",
    "txt=\"the rain in spain\"\n",
    "x=re.search(r\"\\bs\\w+\",txt)\n",
    "print(x.group())"
   ]
  },
  {
   "cell_type": "code",
   "execution_count": null,
   "id": "d5a8af4d",
   "metadata": {},
   "outputs": [],
   "source": []
  }
 ],
 "metadata": {
  "kernelspec": {
   "display_name": "Python 3 (ipykernel)",
   "language": "python",
   "name": "python3"
  },
  "language_info": {
   "codemirror_mode": {
    "name": "ipython",
    "version": 3
   },
   "file_extension": ".py",
   "mimetype": "text/x-python",
   "name": "python",
   "nbconvert_exporter": "python",
   "pygments_lexer": "ipython3",
   "version": "3.10.4"
  }
 },
 "nbformat": 4,
 "nbformat_minor": 5
}
