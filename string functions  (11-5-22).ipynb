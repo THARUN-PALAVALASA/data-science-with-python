{
 "cells": [
  {
   "cell_type": "code",
   "execution_count": 4,
   "id": "2d2c62c5",
   "metadata": {},
   "outputs": [
    {
     "data": {
      "text/plain": [
       "'Rguktsklm'"
      ]
     },
     "execution_count": 4,
     "metadata": {},
     "output_type": "execute_result"
    }
   ],
   "source": [
    "#string functions\n",
    "s1=\"rguktsklm\"\n",
    "s1.capitalize()"
   ]
  },
  {
   "cell_type": "code",
   "execution_count": 5,
   "id": "7d208a29",
   "metadata": {},
   "outputs": [
    {
     "name": "stdout",
     "output_type": "stream",
     "text": [
      "1\n"
     ]
    }
   ],
   "source": [
    "string1=\"iiit rgukt srikakulam\"\n",
    "substring=\"rgukt\"\n",
    "count=string1.count(substring)\n",
    "print(count)\n"
   ]
  },
  {
   "cell_type": "code",
   "execution_count": 6,
   "id": "da186821",
   "metadata": {},
   "outputs": [
    {
     "data": {
      "text/plain": [
       "True"
      ]
     },
     "execution_count": 6,
     "metadata": {},
     "output_type": "execute_result"
    }
   ],
   "source": [
    "s1=\"lakshmi\"\n",
    "s1.isalpha()"
   ]
  },
  {
   "cell_type": "code",
   "execution_count": 9,
   "id": "f4c67484",
   "metadata": {},
   "outputs": [
    {
     "data": {
      "text/plain": [
       "True"
      ]
     },
     "execution_count": 9,
     "metadata": {},
     "output_type": "execute_result"
    }
   ],
   "source": [
    "s1=\"12345\"\n",
    "s1.isdigit()\n"
   ]
  },
  {
   "cell_type": "code",
   "execution_count": 10,
   "id": "77ef0486",
   "metadata": {},
   "outputs": [
    {
     "data": {
      "text/plain": [
       "True"
      ]
     },
     "execution_count": 10,
     "metadata": {},
     "output_type": "execute_result"
    }
   ],
   "source": [
    "s1=\"lucky\"\n",
    "s1.islower()"
   ]
  },
  {
   "cell_type": "code",
   "execution_count": 11,
   "id": "b3ee1053",
   "metadata": {},
   "outputs": [
    {
     "data": {
      "text/plain": [
       "False"
      ]
     },
     "execution_count": 11,
     "metadata": {},
     "output_type": "execute_result"
    }
   ],
   "source": [
    "s=\"G\"\n",
    "s.isspace()"
   ]
  },
  {
   "cell_type": "code",
   "execution_count": 13,
   "id": "31c2cf48",
   "metadata": {},
   "outputs": [
    {
     "data": {
      "text/plain": [
       "True"
      ]
     },
     "execution_count": 13,
     "metadata": {},
     "output_type": "execute_result"
    }
   ],
   "source": [
    "s1=\"Rgukt Sklm\"\n",
    "s1.istitle()"
   ]
  },
  {
   "cell_type": "code",
   "execution_count": 14,
   "id": "a230ea2e",
   "metadata": {},
   "outputs": [
    {
     "data": {
      "text/plain": [
       "'LAKSHMI'"
      ]
     },
     "execution_count": 14,
     "metadata": {},
     "output_type": "execute_result"
    }
   ],
   "source": [
    "s=\"lakshmi\"\n",
    "s.upper()"
   ]
  },
  {
   "cell_type": "code",
   "execution_count": 18,
   "id": "94c76ed5",
   "metadata": {},
   "outputs": [
    {
     "data": {
      "text/plain": [
       "('python ', 'is', ' fun')"
      ]
     },
     "execution_count": 18,
     "metadata": {},
     "output_type": "execute_result"
    }
   ],
   "source": [
    "s=\"python is fun\"\n",
    "s.partition(\"is\")"
   ]
  },
  {
   "cell_type": "code",
   "execution_count": 20,
   "id": "69c98397",
   "metadata": {},
   "outputs": [
    {
     "data": {
      "text/plain": [
       "'hitarun'"
      ]
     },
     "execution_count": 20,
     "metadata": {},
     "output_type": "execute_result"
    }
   ],
   "source": [
    "s1=\"hi\"\n",
    "s2=\"tarun\"\n",
    "s3=s1+s2\n",
    "s3"
   ]
  },
  {
   "cell_type": "code",
   "execution_count": 21,
   "id": "e65fa236",
   "metadata": {},
   "outputs": [
    {
     "name": "stdout",
     "output_type": "stream",
     "text": [
      "tarun,mtharun\n"
     ]
    }
   ],
   "source": [
    "s=\"tarun,ptharun\"\n",
    "print(s.replace(\"p\",\"m\"))"
   ]
  },
  {
   "cell_type": "code",
   "execution_count": 22,
   "id": "c702f7d9",
   "metadata": {},
   "outputs": [
    {
     "data": {
      "text/plain": [
       "['grapes,mangoes,apples']"
      ]
     },
     "execution_count": 22,
     "metadata": {},
     "output_type": "execute_result"
    }
   ],
   "source": [
    "s=\"grapes,mangoes,apples\"\n",
    "s.split()\n"
   ]
  },
  {
   "cell_type": "code",
   "execution_count": 24,
   "id": "35176b83",
   "metadata": {},
   "outputs": [
    {
     "data": {
      "text/plain": [
       "'RGUKT SKLM IIIT'"
      ]
     },
     "execution_count": 24,
     "metadata": {},
     "output_type": "execute_result"
    }
   ],
   "source": [
    "s=\"rgukt sklm iiit\"\n",
    "s.swapcase()"
   ]
  },
  {
   "cell_type": "code",
   "execution_count": null,
   "id": "ada44339",
   "metadata": {},
   "outputs": [],
   "source": []
  }
 ],
 "metadata": {
  "kernelspec": {
   "display_name": "Python 3 (ipykernel)",
   "language": "python",
   "name": "python3"
  },
  "language_info": {
   "codemirror_mode": {
    "name": "ipython",
    "version": 3
   },
   "file_extension": ".py",
   "mimetype": "text/x-python",
   "name": "python",
   "nbconvert_exporter": "python",
   "pygments_lexer": "ipython3",
   "version": "3.9.7"
  }
 },
 "nbformat": 4,
 "nbformat_minor": 5
}
